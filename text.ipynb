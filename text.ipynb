{
 "cells": [
  {
   "cell_type": "markdown",
   "metadata": {},
   "source": [
    "# 1\n",
    "\n"
   ]
  },
  {
   "cell_type": "markdown",
   "metadata": {},
   "source": [
    "## A"
   ]
  },
  {
   "cell_type": "markdown",
   "metadata": {},
   "source": [
    "tn: export FLASK_APP=market.py\n",
    "FLASK_APP is an environment variable that tells Flask which file contains the app.\n",
    "By setting it to market.py, Flask knows to run that file when you execute:\n",
    "flask run\n",
    "\n",
    " Alternative Ways (Without export)\n",
    "Instead of using export, you can run Flask like this:\n",
    "FLASK_APP=app.py flask run\n",
    "python3 app.py  # If you have app.run() inside\n",
    "\n",
    "If you have this in your app.py file:\n",
    "if __name__ == \"__main__\":\n",
    "    app.run(debug=True)\n",
    "You can directly run your Flask app using Python like this:\n",
    "python3 app.py\n",
    "This starts the Flask server without needing export FLASK_APP=app.py or flask run.\n",
    "\n",
    "\n"
   ]
  },
  {
   "cell_type": "markdown",
   "metadata": {},
   "source": [
    "## B"
   ]
  },
  {
   "cell_type": "markdown",
   "metadata": {},
   "source": [
    "from flask import Flask\n",
    "app = Flask(__name__)  #built in variable that u can call from any python file\n",
    "\n",
    "@app.route('/') # decorator in python\n",
    "def hello_world():\n",
    "    return '<h1>Hello World</h1>'\n",
    "\n",
    "tn: P52:~/Documents/Projects/Sem4/FlaskMarket$ export FLASK_DEBUG=1\n",
    "\n",
    "# making routes\n",
    "@app.route('/about')\n",
    "def about_page():\n",
    "    return '<h1>About Page</h1>'\n",
    "\n",
    "\n",
    "#dynamic routes? using variables?\n",
    "@app.route('/about/<username>')\n",
    "def about_page(username):\n",
    "    return f'<h1>This is the about page of {username} </h1>'\n"
   ]
  },
  {
   "cell_type": "markdown",
   "metadata": {},
   "source": [
    "## C\n"
   ]
  },
  {
   "cell_type": "markdown",
   "metadata": {},
   "source": [
    "some styling\n",
    "avoiding long strings in a single file, \n",
    "creating a directory called as templates and in it we create html file. we separate our html code and refer it."
   ]
  },
  {
   "cell_type": "markdown",
   "metadata": {},
   "source": [
    "from flask import Flask, render_template\n",
    "app = Flask(__name__)  #built in variable that u can call from any python file\n",
    "\n",
    "@app.route('/') # decorator in python\n",
    "def home_page():\n",
    "    return render_template('home.html')\n",
    "\n"
   ]
  },
  {
   "cell_type": "markdown",
   "metadata": {},
   "source": [
    "and in templates create a file called home.html and write this\n",
    "<h1>Home Page</h1>"
   ]
  },
  {
   "cell_type": "markdown",
   "metadata": {},
   "source": [
    "## D"
   ]
  },
  {
   "cell_type": "markdown",
   "metadata": {},
   "source": [
    "for styling we use bootstrap.\n",
    "import bootstrap starter template\n",
    "\n",
    "updated home.html\n",
    "<!doctype html>\n",
    "<html lang=\"en\">\n",
    "  <head>\n",
    "    <!-- Required meta tags -->\n",
    "    <meta charset=\"utf-8\">\n",
    "    <meta name=\"viewport\" content=\"width=device-width, initial-scale=1, shrink-to-fit=no\">\n",
    "\n",
    "    <!-- Bootstrap CSS -->\n",
    "    <link rel=\"stylesheet\" href=\"https://cdn.jsdelivr.net/npm/bootstrap@4.5.3/dist/css/bootstrap.min.css\" integrity=\"sha384-TX8t27EcRE3e/ihU7zmQxVncDAy5uIKz4rEkgIXeMed4M0jlfIDPvg6uqKI2xXr2\" crossorigin=\"anonymous\">\n",
    "\n",
    "    <title>Hello, world!</title>\n",
    "  </head>\n",
    "  <body>\n",
    "    <h1>Home Page</h1>\n",
    "\n",
    "    <!-- Optional JavaScript; choose one of the two! -->\n",
    "\n",
    "    <!-- Option 1: jQuery and Bootstrap Bundle (includes Popper) -->\n",
    "    <script src=\"https://code.jquery.com/jquery-3.5.1.slim.min.js\" integrity=\"sha384-DfXdz2htPH0lsSSs5nCTpuj/zy4C+OGpamoFVy38MVBnE+IbbVYUew+OrCXaRkfj\" crossorigin=\"anonymous\"></script>\n",
    "    <script src=\"https://cdn.jsdelivr.net/npm/bootstrap@4.5.3/dist/js/bootstrap.bundle.min.js\" integrity=\"sha384-ho+j7jyWK8fNQe+A12Hb8AhRq26LrZ/JpcUGGOn+Y7RsweNrtN/tE3MoK7ZeZDyx\" crossorigin=\"anonymous\"></script>\n",
    "\n",
    "    <!-- Option 2: jQuery, Popper.js, and Bootstrap JS\n",
    "    <script src=\"https://code.jquery.com/jquery-3.5.1.slim.min.js\" integrity=\"sha384-DfXdz2htPH0lsSSs5nCTpuj/zy4C+OGpamoFVy38MVBnE+IbbVYUew+OrCXaRkfj\" crossorigin=\"anonymous\"></script>\n",
    "    <script src=\"https://cdn.jsdelivr.net/npm/popper.js@1.16.1/dist/umd/popper.min.js\" integrity=\"sha384-9/reFTGAW83EW2RDu2S0VKaIzap3H66lZH81PoYlFhbGU+6BZp6G7niu735Sk7lN\" crossorigin=\"anonymous\"></script>\n",
    "    <script src=\"https://cdn.jsdelivr.net/npm/bootstrap@4.5.3/dist/js/bootstrap.min.js\" integrity=\"sha384-w1Q4orYjBQndcko6MimVbzY0tgp4pWB4lZ7lr30WKz0vr/aWKhXdBNmNb5D92v7s\" crossorigin=\"anonymous\"></script>\n",
    "    -->\n",
    "  </body>\n",
    "</html>"
   ]
  },
  {
   "cell_type": "markdown",
   "metadata": {},
   "source": [
    "2 routes for same html page.??\n",
    "\n",
    "from flask import Flask, render_template\n",
    "app = Flask(__name__)  #built in variable that u can call from any python file\n",
    "\n",
    "@app.route('/') # decorator in python\n",
    "@app.route('/home')\n",
    "def home_page():\n",
    "    return render_template('home.html')\n",
    "\n"
   ]
  },
  {
   "cell_type": "markdown",
   "metadata": {},
   "source": [
    "    <nav class=\"navbar navbar-expand-md navbar-dark bg-dark\">\n",
    "        <a class=\"navbar-brand\" href=\"#\">Flask Market</a>\n",
    "        <button class=\"navbar-toggler\" type=\"button\" data-toggle=\"collapse\" data-target=\"#navbarNav\">\n",
    "          <span class=\"navbar-toggler-icon\"></span>\n",
    "        </button>\n",
    "        <div class=\"collapse navbar-collapse\" id=\"navbarNav\">\n",
    "        \n",
    "        </div>\n",
    "    </nav>"
   ]
  },
  {
   "cell_type": "markdown",
   "metadata": {},
   "source": [
    "more options"
   ]
  },
  {
   "cell_type": "markdown",
   "metadata": {},
   "source": [
    "    <nav class=\"navbar navbar-expand-md navbar-dark bg-dark\">\n",
    "      <a class=\"navbar-brand\" href=\"#\">Flask Market</a>\n",
    "      <button class=\"navbar-toggler\" type=\"button\" data-toggle=\"collapse\" data-target=\"#navbarNav\">\n",
    "        <span class=\"navbar-toggler-icon\"></span>\n",
    "      </button>\n",
    "      <div class=\"collapse navbar-collapse\" id=\"navbarNav\">\n",
    "        <ul class=\"navbar-nav mr-auto\">\n",
    "            <li class=\"nav-item active\">\n",
    "                <a class=\"nav-link\" href=\"#\">Home <span class=\"sr-only\">(current)</span></a>\n",
    "            </li>\n",
    "            <li class=\"nav-item\">\n",
    "                <a class=\"nav-link\" href=\"#\">Market</a>\n",
    "            </li>\n",
    "        </ul>\n",
    "        <ul class=\"navbar-nav\">\n",
    "            <li class=\"nav-item\">\n",
    "                <a class=\"nav-link\" href=\"#\">Login</a>\n",
    "            </li>\n",
    "            <li class=\"nav-item\">\n",
    "                <a class=\"nav-link\" href=\"#\">Register</a>\n",
    "            </li>\n",
    "        </ul>\n",
    "      </div>\n",
    "    </nav>\n",
    "\n",
    "\n",
    "some styling\n",
    "      <style>\n",
    "    body {\n",
    "        background-color: #212121;\n",
    "        color: white\n",
    "    }\n",
    "  </style>"
   ]
  },
  {
   "cell_type": "markdown",
   "metadata": {},
   "source": []
  },
  {
   "cell_type": "markdown",
   "metadata": {},
   "source": [
    "# 2"
   ]
  },
  {
   "cell_type": "markdown",
   "metadata": {},
   "source": [
    "## A\n"
   ]
  },
  {
   "cell_type": "markdown",
   "metadata": {},
   "source": [
    "linking"
   ]
  },
  {
   "cell_type": "markdown",
   "metadata": {},
   "source": [
    "from flask import Flask, render_template\n",
    "app = Flask(__name__)  #built in variable that u can call from any python file\n",
    "\n",
    "@app.route('/') # decorator in python\n",
    "@app.route('/home')\n",
    "def home_page():\n",
    "    return render_template('home.html')\n",
    "\n",
    "@app.route('/market')\n",
    "def market_page():\n",
    "    return render_template('market.html')\n",
    "\n",
    "    "
   ]
  },
  {
   "cell_type": "markdown",
   "metadata": {},
   "source": [
    "create market.html"
   ]
  },
  {
   "cell_type": "markdown",
   "metadata": {},
   "source": [
    "how to send info from this route to our html\n",
    "jinja template?\n",
    "\n",
    "\n",
    "@app.route('/market')\n",
    "def market_page():\n",
    "    return render_template('market.html', item_name='Phone')\n",
    "\n",
    "market html\n",
    "    <h1>Market Page</h1>\n",
    "    <p>{{ item_name }}</p>"
   ]
  },
  {
   "cell_type": "markdown",
   "metadata": {},
   "source": [
    "## B"
   ]
  },
  {
   "cell_type": "markdown",
   "metadata": {},
   "source": [
    "Sending data\n",
    "\n",
    "@app.route('/market')\n",
    "def market_page():\n",
    "    items = [\n",
    "        {'id': 1, 'name': 'Phone', 'barcode': '893212299897', 'price': 500},\n",
    "        {'id': 2, 'name': 'Laptop', 'barcode': '123985473165', 'price': 900},\n",
    "        {'id': 3, 'name': 'Keyboard', 'barcode': '231985128446', 'price': 150}\n",
    "    ]\n",
    "    return render_template('market.html', items=items)\n",
    "\n",
    "\n",
    "in markets.html\n",
    "    <h1>Market Page</h1>\n",
    "    <p>{{ items }}</p>\n",
    "very ugly look\n",
    "some styling usign bootstrap table\n",
    "\n",
    "\n",
    " <table class=\"table table-hover table-dark\">\n",
    "        <thead>\n",
    "            <tr>\n",
    "                <!-- Your Columns HERE -->\n",
    "                <th scope=\"col\">ID</th>\n",
    "                <th scope=\"col\">Name</th>\n",
    "                <th scope=\"col\">Barcode</th>\n",
    "                <th scope=\"col\">Price</th>\n",
    "                <th scope=\"col\">Options</th>\n",
    "            </tr>\n",
    "        </thead>\n",
    "        <tbody>\n",
    "            <!-- Your rows inside the table HERE: -->\n",
    "            {% for item in items %}\n",
    "                <tr>\n",
    "                    <td>{{ item.id }}</td>\n",
    "                    <td>{{ item.name }}</td>\n",
    "                    <td>{{ item.barcode }}</td>\n",
    "                    <td>${{ item.price }}</td>\n",
    "                    <td>\n",
    "                        <button class=\"btn btn-outline btn-info\">More Info</button>\n",
    "                        <button class=\"btn btn-outline btn-success\">Purchase this Item</button>\n",
    "                    </td>\n",
    "                </tr>\n",
    "            {% endfor %}\n",
    "        </tbody>\n",
    "    </table>\n"
   ]
  },
  {
   "cell_type": "markdown",
   "metadata": {},
   "source": [
    "    change to this accordingly\n",
    "\n",
    "                    <td>\n",
    "                        <button class=\"btn btn-outline-info\">More Info</button>\n",
    "                        <button class=\"btn btn-outline-success\">Purchase this Item</button>\n",
    "                    </td>"
   ]
  },
  {
   "cell_type": "markdown",
   "metadata": {},
   "source": [
    "## C"
   ]
  },
  {
   "cell_type": "markdown",
   "metadata": {},
   "source": [
    "Template Inheritence"
   ]
  },
  {
   "cell_type": "code",
   "execution_count": null,
   "metadata": {
    "vscode": {
     "languageId": "plaintext"
    }
   },
   "outputs": [],
   "source": [
    "base.html\n",
    "\n",
    "<!doctype html>\n",
    "<html lang=\"en\">\n",
    "   <head>\n",
    "      <!-- Required meta tags -->\n",
    "      <meta charset=\"utf-8\">\n",
    "      <meta name=\"viewport\" content=\"width=device-width, initial-scale=1, shrink-to-fit=no\">\n",
    "      <!-- Bootstrap CSS -->\n",
    "      <link rel=\"stylesheet\" href=\"https://cdn.jsdelivr.net/npm/bootstrap@4.5.3/dist/css/bootstrap.min.css\" integrity=\"sha384-TX8t27EcRE3e/ihU7zmQxVncDAy5uIKz4rEkgIXeMed4M0jlfIDPvg6uqKI2xXr2\" crossorigin=\"anonymous\">\n",
    "      <title>\n",
    "          {% block title %}\n",
    "\n",
    "          {% endblock %}\n",
    "      </title>\n",
    "   </head>\n",
    "   <body>\n",
    "    <nav class=\"navbar navbar-expand-md navbar-dark bg-dark\">\n",
    "      <a class=\"navbar-brand\" href=\"#\">Flask Market</a>\n",
    "      <button class=\"navbar-toggler\" type=\"button\" data-toggle=\"collapse\" data-target=\"#navbarNav\">\n",
    "        <span class=\"navbar-toggler-icon\"></span>\n",
    "      </button>\n",
    "      <div class=\"collapse navbar-collapse\" id=\"navbarNav\">\n",
    "        <ul class=\"navbar-nav mr-auto\">\n",
    "            <li class=\"nav-item active\">\n",
    "                <a class=\"nav-link\" href=\"{{ url_for('home_page') }}\">Home <span class=\"sr-only\">(current)</span></a>\n",
    "            </li>\n",
    "            <li class=\"nav-item\">\n",
    "                <a class=\"nav-link\" href=\"{{ url_for('market_page') }}\">Market</a>\n",
    "            </li>\n",
    "        </ul>\n",
    "        <ul class=\"navbar-nav\">\n",
    "            <li class=\"nav-item\">\n",
    "                <a class=\"nav-link\" href=\"#\">Login</a>\n",
    "            </li>\n",
    "            <li class=\"nav-item\">\n",
    "                <a class=\"nav-link\" href=\"#\">Register</a>\n",
    "            </li>\n",
    "        </ul>\n",
    "      </div>\n",
    "    </nav>\n",
    "      {% block content %}\n",
    "\n",
    "      {% endblock %}\n",
    "      <!-- Future Content here -->\n",
    "\n",
    "\n",
    "\n",
    "      <!-- Optional JavaScript -->\n",
    "      <!-- jQuery first, then Popper.js, then Bootstrap JS -->\n",
    "      <script src='https://kit.fontawesome.com/a076d05399.js'></script>\n",
    "      <script src=\"https://code.jquery.com/jquery-3.5.1.slim.min.js\" integrity=\"sha384-DfXdz2htPH0lsSSs5nCTpuj/zy4C+OGpamoFVy38MVBnE+IbbVYUew+OrCXaRkfj\" crossorigin=\"anonymous\"></script>\n",
    "      <script src=\"https://cdn.jsdelivr.net/npm/popper.js@1.16.1/dist/umd/popper.min.js\" integrity=\"sha384-9/reFTGAW83EW2RDu2S0VKaIzap3H66lZH81PoYlFhbGU+6BZp6G7niu735Sk7lN\" crossorigin=\"anonymous\"></script>\n",
    "      <script src=\"https://stackpath.bootstrapcdn.com/bootstrap/4.5.2/js/bootstrap.min.js\" integrity=\"sha384-B4gt1jrGC7Jh4AgTPSdUtOBvfO8shuf57BaghqFfPlYxofvL8/KUEfYiJOMMV+rV\" crossorigin=\"anonymous\"></script>\n",
    "   </body>\n",
    "   <style>\n",
    "      body {\n",
    "      background-color: #212121;\n",
    "      color: white\n",
    "      }\n",
    "   </style>\n",
    "</html>\n"
   ]
  },
  {
   "cell_type": "markdown",
   "metadata": {},
   "source": [
    "home.html\n",
    "{% extends 'base.html' %}\n",
    "{% block title %}\n",
    "    Home Page\n",
    "{% endblock %}\n",
    "\n",
    "{% block content %}\n",
    "    This is the content for our home page\n",
    "{% endblock %}"
   ]
  },
  {
   "cell_type": "markdown",
   "metadata": {},
   "source": [
    "from market now, copy the table tags"
   ]
  }
 ],
 "metadata": {
  "language_info": {
   "name": "python"
  }
 },
 "nbformat": 4,
 "nbformat_minor": 2
}
